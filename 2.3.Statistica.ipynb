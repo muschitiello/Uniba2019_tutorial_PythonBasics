{
 "cells": [
  {
   "cell_type": "markdown",
   "metadata": {},
   "source": [
    "<img src=\"images/logo-uniba.png\" style=\"width:200px\" align=\"right\"> \n",
    "<img src=\"images/pyt.png\" style=\"width:150px\" align=\"left\"> \n",
    "<br />\n",
    "<br />\n",
    "\n",
    "## Python Basics 3/12/2019\n",
    "Cristina Muschitiello - Infocamere, FAO, CREA\n"
   ]
  },
  {
   "cell_type": "markdown",
   "metadata": {},
   "source": [
    "____\n",
    "\n",
    "# PARTE 2: IL LINGUAGGIO\n",
    "\n",
    "# 2.3. La statistica"
   ]
  },
  {
   "cell_type": "markdown",
   "metadata": {},
   "source": [
    "___\n",
    "\n",
    "## INDICE DEGLI ARGOMENTI\n",
    "\n",
    "* CARICAMENTO DELLE LIBRERIE\n",
    "* DATI DI ESEMPIO:\n",
    "   * Iris Data\n",
    "   * Alcohol Consumption by cuntry\n",
    "   * Titanic Data\n",
    "* TABELLE DI FREQUENZA\n",
    "   * Tabelle singole per variabili quantitative o categoriali\n",
    "   * Tabelle singole per variabili continue\n",
    "   * Tabelle doppie\n",
    "* ALCUNE RAPPRESENTAZIONI GRAFICHE\n",
    "   * Istogramma\n",
    "   * Diagramma a barre\n",
    "   * Diagramma a linee\n",
    "   * Diagramma a Torta\n",
    "   * Boxplot\n",
    "* MEDIE E VARIABILITA'\n",
    "   * Media aritmetica \n",
    "   * Altri indicatori di tendenza centrale\n",
    "   * Deviazione Standard\n",
    "   * Varianza\n",
    "* SCATTERPLOT, COVARIANZA E CORRELAZIONE\n",
    "___"
   ]
  },
  {
   "cell_type": "markdown",
   "metadata": {},
   "source": [
    "## CARICAMENTO DELLE LIBRERIE\n",
    "\n",
    "Nel caso in cui si intenda adoperare una libreria esterna in un nostro codice Python, occorre preventivamente importarla.\n"
   ]
  },
  {
   "cell_type": "code",
   "execution_count": null,
   "metadata": {},
   "outputs": [],
   "source": [
    "# Import Libraries\n",
    "\n",
    "import numpy as np\n",
    "import pandas as pd\n",
    "import scipy as sp\n",
    "import seaborn as sns\n",
    "import statistics as st"
   ]
  },
  {
   "cell_type": "markdown",
   "metadata": {},
   "source": [
    "## DATI DI ESEMPIO"
   ]
  },
  {
   "cell_type": "markdown",
   "metadata": {},
   "source": [
    "### Iris Data"
   ]
  },
  {
   "cell_type": "markdown",
   "metadata": {},
   "source": [
    "<img src=\"images/irisClass.jpg\" style=\"width:400px\" align=\"left\"> "
   ]
  },
  {
   "cell_type": "markdown",
   "metadata": {},
   "source": [
    "<img src=\"images/iris_with_labels.jpg\" style=\"width:200px\" align=\"left\"> "
   ]
  },
  {
   "cell_type": "code",
   "execution_count": null,
   "metadata": {},
   "outputs": [],
   "source": [
    "irisDf = sns.load_dataset('iris')"
   ]
  },
  {
   "cell_type": "code",
   "execution_count": null,
   "metadata": {},
   "outputs": [],
   "source": [
    "print(irisDf)"
   ]
  },
  {
   "cell_type": "code",
   "execution_count": null,
   "metadata": {},
   "outputs": [],
   "source": [
    "irisDf"
   ]
  },
  {
   "cell_type": "markdown",
   "metadata": {},
   "source": [
    "### Alcohol Consumption by Country\n",
    "Dati direttamente saricabili dal web"
   ]
  },
  {
   "cell_type": "code",
   "execution_count": null,
   "metadata": {},
   "outputs": [],
   "source": [
    "alcDf = pd.read_csv('https://raw.githubusercontent.com/plotly/datasets/master/2010_alcohol_consumption_by_country.csv')"
   ]
  },
  {
   "cell_type": "code",
   "execution_count": null,
   "metadata": {},
   "outputs": [],
   "source": [
    "alcDf"
   ]
  },
  {
   "cell_type": "markdown",
   "metadata": {},
   "source": [
    "## Titanic data \n",
    "\n",
    "Dati da scaricare e salvare sul computer.\n",
    "\n",
    "I dati sono [scaricabili qui](https://web.stanford.edu/class/archive/cs/cs109/cs109.1166/problem12.html)"
   ]
  },
  {
   "cell_type": "code",
   "execution_count": null,
   "metadata": {},
   "outputs": [],
   "source": [
    "titDf = pd.read_csv(\"data/titanic.csv\") "
   ]
  },
  {
   "cell_type": "code",
   "execution_count": null,
   "metadata": {},
   "outputs": [],
   "source": [
    "titDf"
   ]
  },
  {
   "cell_type": "markdown",
   "metadata": {},
   "source": [
    "## TABELLE DI FREQUENZA\n",
    "### Tabelle singole per variabili quantitative o categoriali"
   ]
  },
  {
   "cell_type": "code",
   "execution_count": null,
   "metadata": {},
   "outputs": [],
   "source": [
    "# Sesso dei passeggeri del Titanic\n",
    "## Modo1 (funzione della libreria pandas)\n",
    "pd.crosstab(index=titDf[\"Sex\"],columns=\"count\") "
   ]
  },
  {
   "cell_type": "code",
   "execution_count": null,
   "metadata": {},
   "outputs": [],
   "source": [
    "## Modo2 (modulo della libreria di default di python)\n",
    "titDf.Sex.value_counts()"
   ]
  },
  {
   "cell_type": "code",
   "execution_count": null,
   "metadata": {},
   "outputs": [],
   "source": [
    "# Numero di passeggeri per classe\n",
    "pd.crosstab(index=titDf[\"Pclass\"],columns=\"count\")"
   ]
  },
  {
   "cell_type": "code",
   "execution_count": null,
   "metadata": {},
   "outputs": [],
   "source": [
    "# Specie di iris\n",
    "irisDf.species.value_counts()"
   ]
  },
  {
   "cell_type": "code",
   "execution_count": null,
   "metadata": {},
   "outputs": [],
   "source": [
    "pd.crosstab(index = irisDf[\"species\"],columns = \"count\")"
   ]
  },
  {
   "cell_type": "markdown",
   "metadata": {},
   "source": [
    "### Tabelle singole per variabili continue"
   ]
  },
  {
   "cell_type": "code",
   "execution_count": null,
   "metadata": {},
   "outputs": [],
   "source": [
    "# Larghezza delle foglie di iris\n",
    "pd.cut(irisDf['sepal_width'], bins=4)"
   ]
  },
  {
   "cell_type": "code",
   "execution_count": null,
   "metadata": {},
   "outputs": [],
   "source": [
    "irisDf[\"classes\"] = pd.cut(irisDf['sepal_width'], bins=4)\n",
    "irisDf.classes.value_counts()"
   ]
  },
  {
   "cell_type": "code",
   "execution_count": null,
   "metadata": {},
   "outputs": [],
   "source": [
    "pd.crosstab(index = irisDf[\"classes\"],columns=\"count\")"
   ]
  },
  {
   "cell_type": "markdown",
   "metadata": {},
   "source": [
    "### Tabelle Doppie"
   ]
  },
  {
   "cell_type": "code",
   "execution_count": null,
   "metadata": {},
   "outputs": [],
   "source": [
    "# Sesso per classe dei passeggeri del Titanic\n",
    "sex_class = pd.crosstab(index = titDf[\"Sex\"],\n",
    "            columns = titDf[\"Pclass\"])\n",
    "survived_class = pd.crosstab(index = titDf[\"Pclass\"],\n",
    "            columns = titDf[\"Survived\"])"
   ]
  },
  {
   "cell_type": "code",
   "execution_count": null,
   "metadata": {},
   "outputs": [],
   "source": [
    "survived_class"
   ]
  },
  {
   "cell_type": "code",
   "execution_count": null,
   "metadata": {},
   "outputs": [],
   "source": [
    "sex_class"
   ]
  },
  {
   "cell_type": "code",
   "execution_count": null,
   "metadata": {},
   "outputs": [],
   "source": [
    "# Aggiunta delle colonne e righe marginali\n",
    "survived_class = pd.crosstab(index = titDf[\"Pclass\"],\n",
    "            columns = titDf[\"Survived\"],margins=True)\n",
    "survived_class"
   ]
  },
  {
   "cell_type": "code",
   "execution_count": null,
   "metadata": {},
   "outputs": [],
   "source": [
    "# Rinominare righe e colonne\n",
    "survived_class.columns = [\"No\",\"Si\",\"Totale\"]\n",
    "survived_class.index = [\"Prima\",\"Seconda\",\"Terza\",\"Totale\"]\n",
    "survived_class"
   ]
  },
  {
   "cell_type": "markdown",
   "metadata": {},
   "source": [
    "## ALCUNE RAPPRESENTAZIONI GRAFICHE: Matplotlib e Pandas"
   ]
  },
  {
   "cell_type": "markdown",
   "metadata": {},
   "source": [
    "### Istogramma"
   ]
  },
  {
   "cell_type": "code",
   "execution_count": null,
   "metadata": {},
   "outputs": [],
   "source": [
    "import matplotlib\n",
    "import matplotlib.pyplot as plt"
   ]
  },
  {
   "cell_type": "code",
   "execution_count": null,
   "metadata": {},
   "outputs": [],
   "source": [
    "# Istogramma semplice\n",
    "plt.hist(irisDf[\"sepal_length\"], bins=20)\n",
    "plt.ylabel('sepal_length')\n",
    "plt.show()"
   ]
  },
  {
   "cell_type": "code",
   "execution_count": null,
   "metadata": {},
   "outputs": [],
   "source": [
    "# Istogramma con densità (con seaborn)\n",
    "sns.distplot(irisDf[\"sepal_length\"] )"
   ]
  },
  {
   "cell_type": "code",
   "execution_count": null,
   "metadata": {},
   "outputs": [],
   "source": [
    "# Istogramma multipli\n",
    "irisDf.plot.hist(subplots=True, layout=(2,2), figsize=(20, 10), bins=20)"
   ]
  },
  {
   "cell_type": "code",
   "execution_count": null,
   "metadata": {},
   "outputs": [],
   "source": [
    "plt.subplots(figsize=(7,6), dpi=100)\n",
    "sns.distplot( irisDf.loc[irisDf.species=='setosa', \"sepal_length\"] , color=\"dodgerblue\", label=\"Setosa\")\n",
    "sns.distplot( irisDf.loc[irisDf.species=='virginica', \"sepal_length\"] , color=\"orange\", label=\"virginica\")\n",
    "sns.distplot( irisDf.loc[irisDf.species=='versicolor', \"sepal_length\"] , color=\"deeppink\", label=\"versicolor\")\n",
    "\n",
    "plt.title('Iris Histogram')\n",
    "plt.legend();"
   ]
  },
  {
   "cell_type": "markdown",
   "metadata": {},
   "source": [
    "### Diagramma a barre"
   ]
  },
  {
   "cell_type": "code",
   "execution_count": null,
   "metadata": {},
   "outputs": [],
   "source": [
    "### Specie di iris\n",
    "# Verticale\n",
    "irisDf['species'].value_counts().plot(kind='bar')"
   ]
  },
  {
   "cell_type": "code",
   "execution_count": null,
   "metadata": {},
   "outputs": [],
   "source": [
    "### Specie di iris\n",
    "# Verticale\n",
    "irisDf['species'].value_counts().plot(kind='barh')"
   ]
  },
  {
   "cell_type": "code",
   "execution_count": null,
   "metadata": {},
   "outputs": [],
   "source": [
    "# Primi 10 paesi consumatori di alcohol\n",
    "pl = alcDf[0:10][\"alcohol\"].plot(kind=\"barh\")\n",
    "# pl.set_yticklabels(alcDf[0:10][\"location\"])\n",
    "# pl.invert_yaxis()\n",
    "# pl.plot()"
   ]
  },
  {
   "cell_type": "markdown",
   "metadata": {},
   "source": [
    "### Diagramma a torta"
   ]
  },
  {
   "cell_type": "code",
   "execution_count": null,
   "metadata": {},
   "outputs": [],
   "source": [
    "# Primi 10 paesi consumatori di alcohol\n",
    "fig, ax = plt.subplots(figsize=(10,10))\n",
    "ax.pie(alcDf[0:10][\"alcohol\"], labels=alcDf[0:10][\"location\"], autopct='%.1f%%')\n",
    "plt.show()\n"
   ]
  },
  {
   "cell_type": "markdown",
   "metadata": {},
   "source": [
    "### Box Plot"
   ]
  },
  {
   "cell_type": "code",
   "execution_count": null,
   "metadata": {
    "scrolled": true
   },
   "outputs": [],
   "source": [
    "# Boxplot per singolo gruppo\n",
    "sns.boxplot( y=irisDf[\"sepal_length\"] )"
   ]
  },
  {
   "cell_type": "code",
   "execution_count": null,
   "metadata": {},
   "outputs": [],
   "source": [
    "# Una variabile numerica e più gruppi\n",
    "sns.boxplot(x=irisDf[\"species\"], y=irisDf[\"sepal_length\"] )\n"
   ]
  },
  {
   "cell_type": "markdown",
   "metadata": {},
   "source": [
    "3 - Several numerical variable\n",
    "Finally we can study the distribution of several numerical variables, let’s say sepal length and width:"
   ]
  },
  {
   "cell_type": "code",
   "execution_count": null,
   "metadata": {},
   "outputs": [],
   "source": [
    "# Più variabili numeriche\n",
    "sns.boxplot(data=irisDf.iloc[:,0:2])"
   ]
  },
  {
   "cell_type": "markdown",
   "metadata": {},
   "source": [
    "___\n",
    "## MEDIE E VARIABILITA'\n"
   ]
  },
  {
   "cell_type": "markdown",
   "metadata": {},
   "source": [
    "### Media aritmetica\n",
    "\n",
    "$\\begin{align*}\n",
    "\\mu = \\sum_{i=1}^N{x_i}\n",
    "\\end{align*}\n",
    "$"
   ]
  },
  {
   "cell_type": "code",
   "execution_count": null,
   "metadata": {},
   "outputs": [],
   "source": [
    "st.mean(alcDf['alcohol'])"
   ]
  },
  {
   "cell_type": "code",
   "execution_count": null,
   "metadata": {
    "scrolled": true
   },
   "outputs": [],
   "source": [
    "mean = st.mean(alcDf['alcohol'])\n",
    "print(\"La media è {}\".format(mean))"
   ]
  },
  {
   "cell_type": "code",
   "execution_count": null,
   "metadata": {
    "scrolled": true
   },
   "outputs": [],
   "source": [
    "mean = st.mean(alcDf['alcohol'])\n",
    "print(\"La media è {}\".format(round(mean,2)))"
   ]
  },
  {
   "cell_type": "markdown",
   "metadata": {},
   "source": [
    "### Altri indicatoridi tendenza centrale"
   ]
  },
  {
   "cell_type": "code",
   "execution_count": null,
   "metadata": {},
   "outputs": [],
   "source": [
    "# Mediana\n",
    "st.median(alcDf['alcohol'])"
   ]
  },
  {
   "cell_type": "code",
   "execution_count": null,
   "metadata": {},
   "outputs": [],
   "source": [
    "# Media armonica\n",
    "st.harmonic_mean(irisDf['sepal_length'])"
   ]
  },
  {
   "cell_type": "code",
   "execution_count": null,
   "metadata": {},
   "outputs": [],
   "source": [
    "# Moda\n",
    "st.mode(irisDf['sepal_length'])"
   ]
  },
  {
   "cell_type": "code",
   "execution_count": null,
   "metadata": {},
   "outputs": [],
   "source": [
    "# Quantili con pandas\n",
    "irisDf[\"sepal_length\"].quantile([.25, .5, .75])"
   ]
  },
  {
   "cell_type": "code",
   "execution_count": null,
   "metadata": {},
   "outputs": [],
   "source": [
    "irisDf.quantile([.25, .5, .75], axis = 0)"
   ]
  },
  {
   "cell_type": "markdown",
   "metadata": {},
   "source": [
    "### Deviazione Standard"
   ]
  },
  {
   "cell_type": "code",
   "execution_count": null,
   "metadata": {},
   "outputs": [],
   "source": [
    "st.pstdev(alcDf['alcohol'])"
   ]
  },
  {
   "cell_type": "code",
   "execution_count": null,
   "metadata": {
    "scrolled": true
   },
   "outputs": [],
   "source": [
    "st_dev = st.pstdev(alcDf['alcohol'])\n",
    "\n",
    "print(\"La deviazione standard è {}\".format(round(st_dev,2)))"
   ]
  },
  {
   "cell_type": "markdown",
   "metadata": {},
   "source": [
    "### Varianza"
   ]
  },
  {
   "cell_type": "code",
   "execution_count": null,
   "metadata": {},
   "outputs": [],
   "source": [
    "st.pvariance(alcDf['alcohol'])"
   ]
  },
  {
   "cell_type": "markdown",
   "metadata": {},
   "source": [
    "___\n",
    "## SCATTERPLOT, COVARIANZA  E CORRELAZIONE "
   ]
  },
  {
   "cell_type": "code",
   "execution_count": null,
   "metadata": {},
   "outputs": [],
   "source": [
    "# Correlazione fra larghezza e lunghezza dei petali di iris\n",
    "data1 = irisDf[\"petal_length\"]\n",
    "data2 = irisDf[\"petal_width\"]\n",
    "plt.scatter(data1, data2)\n",
    "plt.show()"
   ]
  },
  {
   "cell_type": "code",
   "execution_count": null,
   "metadata": {},
   "outputs": [],
   "source": [
    "# Covarianza\n",
    "np.cov(data1,data2)"
   ]
  },
  {
   "cell_type": "code",
   "execution_count": null,
   "metadata": {},
   "outputs": [],
   "source": [
    "### Correazione\n",
    "# Pearson: valore e pvalue\n",
    "sp.stats.pearsonr(data1,data2) "
   ]
  },
  {
   "cell_type": "code",
   "execution_count": null,
   "metadata": {},
   "outputs": [],
   "source": [
    "### Correazione\n",
    "# Spearman: valore e pvalue\n",
    "sp.stats.spearmanr(data1,data2) "
   ]
  }
 ],
 "metadata": {
  "kernelspec": {
   "display_name": "Python 3",
   "language": "python",
   "name": "python3"
  },
  "language_info": {
   "codemirror_mode": {
    "name": "ipython",
    "version": 3
   },
   "file_extension": ".py",
   "mimetype": "text/x-python",
   "name": "python",
   "nbconvert_exporter": "python",
   "pygments_lexer": "ipython3",
   "version": "3.7.4"
  }
 },
 "nbformat": 4,
 "nbformat_minor": 2
}
