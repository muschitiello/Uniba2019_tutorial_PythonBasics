{
 "cells": [
  {
   "cell_type": "markdown",
   "metadata": {},
   "source": [
    "<img src=\"images/logo-uniba.png\" style=\"width:200px\" align=\"right\"> \n",
    "<img src=\"images/pyt.png\" style=\"width:150px\" align=\"left\"> \n",
    "<br />\n",
    "<br />\n",
    "\n",
    "# Python Basics 3/12/2019\n",
    "Cristina Muschitiello - Infocamere, FAO, CREA\n"
   ]
  },
  {
   "cell_type": "markdown",
   "metadata": {},
   "source": [
    "\n",
    "___\n",
    "\n",
    "# PARTE 2: IL LINGUAGGIO\n",
    "\n",
    "# 2.1. La sintassi"
   ]
  },
  {
   "cell_type": "markdown",
   "metadata": {},
   "source": [
    "___\n",
    "\n",
    "## indice degli argomenti\n",
    "\n",
    "* Tipi di dato\n",
    "    * Il tipo Numeric\n",
    "    * Il tipo boolean\n",
    "    * Il tipo String\n",
    "* Selezione e Slicing\n",
    "* Operatori \n",
    "    * Confronto\n",
    "    * Logici\n",
    "    * range()\n",
    "* Le Variabili\n",
    "* Printing\n",
    "* Le strutture dati standard di Pythom\n",
    "    * Le Tuple \n",
    "    * Le Liste\n",
    "    * I Dizionari\n",
    "    * Gli Insiemi\n",
    "* I costrutti\n",
    "    * Il costrutto if, elif, else \n",
    "    * Il costrutto for\n",
    "    * Il costrutto while\n",
    "* Le Funzioni in Python\n",
    "* Espressioni lambda\n",
    "* Commenti\n",
    "____"
   ]
  },
  {
   "cell_type": "markdown",
   "metadata": {},
   "source": [
    "___\n",
    "\n",
    "## Tipi di dato\n",
    "Python supporta un insieme relativamente limitato di tipi di dato:\n",
    " - tipi numeric \n",
    " \n",
    "    - int: per la rappresentazione di numeri interi      \n",
    "    - float: per la rappresentazione di numeri decimali  \n",
    "    - complex: per la rappresentazione di numeri complessi \n",
    "\n",
    " - tipi stringa: per la rappresentazione di sequenze di caratteri\n",
    " - tipi booleani: per la rappresentazione di valori booleani\n",
    "\n",
    "### Il tipo Numeric\n",
    "I tipi numeric sono utilizzati per la rappresentazioni di valori numerici. E' possibile operare con tipi numerici utilizzando degli operatori.\n",
    "\n",
    "E' possibile realizzare espressioni aritmetiche complesse combinando più espressioni elementari. La gerarchia di precedenze valutale espressioni secondo l'ordine:\n",
    "- esponenziazione\n",
    "- prodotto e divisione\n",
    "- somma e sottrazione\n",
    "\n",
    "Nel caso in una espressione compaiano assieme operatori con la stessa priorità, sono valutati in base all'ordine con cui si presentano.\n",
    "Se si vuole imporre un ordine arbitrario o se si vuole rendere più leggibile l'espressione, è possibile adoperare delle parentesi tonde.\n",
    "\n",
    "E' possibile comparare due o più valori numerici per mezzo di operatori di confronto. Il risultato della comparazione è un valore booleano (True o False)"
   ]
  },
  {
   "cell_type": "code",
   "execution_count": null,
   "metadata": {},
   "outputs": [],
   "source": [
    "print(5+3)\n",
    "4*6"
   ]
  },
  {
   "cell_type": "code",
   "execution_count": null,
   "metadata": {},
   "outputs": [],
   "source": [
    "# Addizione\n",
    "print(5+3)\n",
    "# Sottrazione\n",
    "print(5-3)\n",
    "# Moltiplicazione\n",
    "print(5*3)\n",
    "# Divisione\n",
    "print(5/3)\n",
    "\n",
    "# Esponenziazione\n",
    "print(5**3)\n",
    "# Modulo\n",
    "print(5%3)\n",
    "# Parte intera della divisione\n",
    "print(5//3)\n",
    "\n",
    "print((5+3)*2)\n",
    "\n",
    "\n",
    "print(5>3)\n",
    "print(5<3)\n",
    "print(5!=3)\n",
    "print(5==3)"
   ]
  },
  {
   "cell_type": "markdown",
   "metadata": {},
   "source": [
    "### Il tipo boolean (operatori logici)\n",
    "Il tipo boolean consente la rappresentazione dei valori booleani. Data uno o più valori booleani, è possibile combinarli mediante l'uso di operatori booleani."
   ]
  },
  {
   "cell_type": "code",
   "execution_count": null,
   "metadata": {},
   "outputs": [],
   "source": [
    "# L'operatore and, restituisce True se entrambi gli argomenti sono True. False, altrimenti\n",
    "print(True and False)\n",
    "\n",
    "# L'operatore or, restituisce True se almeno uno degli argomenti è True. False, altrimenti\n",
    "print(True or False)\n",
    "\n",
    "# L'operatore not ribalta il valore dell'argomento. True, se False. False altrimenti\n",
    "print(not True)"
   ]
  },
  {
   "cell_type": "markdown",
   "metadata": {},
   "source": [
    "### Il tipo string\n",
    "In python noon esiste il tipo array.\n",
    "Il tipo string consente la rappresentazione di sequenze di caratteri di lunghezza arbitraria, la cui taglia è limitata esclusivamente dalla memoria disponibile. Esistono diversi modi in Python per istanziare una stringa."
   ]
  },
  {
   "cell_type": "code",
   "execution_count": null,
   "metadata": {},
   "outputs": [],
   "source": [
    "# Utilizzo il tick per contornare la stringa\n",
    "print('La tua affermazione è \"inesatta\"')\n",
    "# Errore print('Anche quest'altra affermazione è inesatta\") \n",
    "print('Anche quest\\'altra affermazione è inesatta') # prima possibilita\n",
    "print(\"Anche quest'altra affermazione è inesatta\") # seconda possibilità\n",
    "print('''Anche quest'altra affermazione è inesatta''') # terza possibilità\n",
    "print('''Ho detto che anche l'altra affermazione \n",
    "è \"inesatta\"''')"
   ]
  },
  {
   "cell_type": "markdown",
   "metadata": {},
   "source": [
    "___\n",
    "\n",
    "## Selezione e Slicing\n",
    "\n",
    "E' possibile accedere selettivamente al contenuto di una stringa attraverso l'operatore [], tenendo conto che i caratteri al suo interno sono indicizzati da 0 alla sua lunghezza-1."
   ]
  },
  {
   "cell_type": "code",
   "execution_count": null,
   "metadata": {},
   "outputs": [],
   "source": [
    "print('abracadabra'[0])"
   ]
  },
  {
   "cell_type": "code",
   "execution_count": null,
   "metadata": {},
   "outputs": [],
   "source": [
    "# SLICING\n",
    "# Seleziono i caratteri da 0 a 5 (escluso)\n",
    "print('abracadabra'[0:5])\n"
   ]
  },
  {
   "cell_type": "code",
   "execution_count": null,
   "metadata": {},
   "outputs": [],
   "source": [
    "# Seleziono i caratteri da 1 a 5 (escluso)\n",
    "print('abracadabra'[1:5])"
   ]
  },
  {
   "cell_type": "code",
   "execution_count": null,
   "metadata": {},
   "outputs": [],
   "source": [
    "# Seleziono i caratteri da 2 fino a fine stringa \n",
    "print('abracadabra'[2:])\n",
    "# Seleziono i caratteri a partire dalla posizione 1 e con uno step di 2 (solo i pari)\n",
    "print('abracadabra'[1::2])\n",
    "# Seleziono i caratteri di tutta la stringa con uno step di 2 (solo i dispari)\n",
    "print('abracadabra'[::2])\n",
    "# Seleziono la stringa in ordine inverso specificando uno step negativo\n",
    "print('abracadabra'[::-1])\n",
    "# Seleziono l'intera stringa tranne gli ultimi due caratteri\n",
    "print('abracadabra'[0:-2])"
   ]
  },
  {
   "cell_type": "code",
   "execution_count": null,
   "metadata": {},
   "outputs": [],
   "source": [
    "print('abracadabra'.upper())\n",
    "print('abracadabra'.lower())\n",
    "print('abracadabra'.capitalize())"
   ]
  },
  {
   "cell_type": "markdown",
   "metadata": {},
   "source": [
    "___\n",
    "\n",
    "## Operatori "
   ]
  },
  {
   "cell_type": "markdown",
   "metadata": {},
   "source": [
    "### di confronto"
   ]
  },
  {
   "cell_type": "code",
   "execution_count": null,
   "metadata": {},
   "outputs": [],
   "source": [
    "1 > 2"
   ]
  },
  {
   "cell_type": "code",
   "execution_count": null,
   "metadata": {},
   "outputs": [],
   "source": [
    "1 < 2"
   ]
  },
  {
   "cell_type": "code",
   "execution_count": null,
   "metadata": {},
   "outputs": [],
   "source": [
    "1 >= 1"
   ]
  },
  {
   "cell_type": "code",
   "execution_count": null,
   "metadata": {},
   "outputs": [],
   "source": [
    "1 <= 4"
   ]
  },
  {
   "cell_type": "code",
   "execution_count": null,
   "metadata": {},
   "outputs": [],
   "source": [
    "1 == 1"
   ]
  },
  {
   "cell_type": "code",
   "execution_count": null,
   "metadata": {},
   "outputs": [],
   "source": [
    "'hi' == 'bye'"
   ]
  },
  {
   "cell_type": "markdown",
   "metadata": {},
   "source": [
    "### logici"
   ]
  },
  {
   "cell_type": "code",
   "execution_count": null,
   "metadata": {},
   "outputs": [],
   "source": [
    "(1 > 2) and (2 < 3)"
   ]
  },
  {
   "cell_type": "code",
   "execution_count": null,
   "metadata": {},
   "outputs": [],
   "source": [
    "(1 > 2) or (2 < 3)"
   ]
  },
  {
   "cell_type": "code",
   "execution_count": null,
   "metadata": {},
   "outputs": [],
   "source": [
    "(1 == 2) or (2 == 3) or (4 == 4)"
   ]
  },
  {
   "cell_type": "markdown",
   "metadata": {},
   "source": [
    "### range()"
   ]
  },
  {
   "cell_type": "code",
   "execution_count": null,
   "metadata": {},
   "outputs": [],
   "source": [
    "range(5)"
   ]
  },
  {
   "cell_type": "code",
   "execution_count": null,
   "metadata": {},
   "outputs": [],
   "source": [
    "for i in range(5):\n",
    "    print(i)"
   ]
  },
  {
   "cell_type": "code",
   "execution_count": null,
   "metadata": {},
   "outputs": [],
   "source": [
    "list(range(3,5))"
   ]
  },
  {
   "cell_type": "markdown",
   "metadata": {},
   "source": [
    "___\n",
    "\n",
    "## Le variabili\n",
    "Python offre la possibilità di far riferimento a valori conservati in memoria mediante identificatori alfanumerici che fungono da variabili. Diversamente da altri linguaggi, Python non prevede una fase preliminare nella quale dichiarare le variabili che si intendono utilizzare tantomeno il loro tipo. Piuttosto, per poter introdurre una variabile in un codice Python è sufficiente iniziare ad usarla. Nel momento in cui si usa una nuova variabile per la prima volta, entra in gioco un meccanismo di type inferring per cui si attribuisce alla variabile il tipo necessario a gestire il valore che gli stiamo assegnando. \n",
    "Nella scelta dell'identificatore per una variabile occore seguire certe regole:\n",
    "- E' possibile usare caratteri alfanumerici ma l'identificatore deve iniziare con un carattere alfabetico;\n",
    "- Non è possibile adoperare parole riservate;\n",
    "- Gli identificatori sono case-sensitive;\n",
    "- Negli identificatori può comparire il carattere '_';\n",
    "\n",
    "Siccome non esiste una dichiarazione formale del tipo di una variabile, ci potrebbero essere dubbi circa la natura di una certa variabile. E' possibile ispezionarne il tipo attraverso la funzione **type**. E' possibile poi adoperare l'operatore **is** per verificare il tipo di una variabile. Infine, è possibile modificare la natura di una variabile da un tipo all'altro, ammesso che la cosa abbia senso, utilizzando le funzioni: **int()**,**float()**,**bool()**, **str()**."
   ]
  },
  {
   "cell_type": "code",
   "execution_count": null,
   "metadata": {},
   "outputs": [],
   "source": [
    "name_of_var = 2"
   ]
  },
  {
   "cell_type": "code",
   "execution_count": null,
   "metadata": {},
   "outputs": [],
   "source": [
    "type(name_of_varvar)"
   ]
  },
  {
   "cell_type": "code",
   "execution_count": null,
   "metadata": {},
   "outputs": [],
   "source": [
    "x = 2\n",
    "y = 3"
   ]
  },
  {
   "cell_type": "code",
   "execution_count": null,
   "metadata": {},
   "outputs": [],
   "source": [
    "z = x + y"
   ]
  },
  {
   "cell_type": "code",
   "execution_count": null,
   "metadata": {},
   "outputs": [],
   "source": [
    "z"
   ]
  },
  {
   "cell_type": "code",
   "execution_count": null,
   "metadata": {},
   "outputs": [],
   "source": [
    "a = 5\n",
    "b = 'pippo'\n",
    "c = '3'\n",
    "\n",
    "print(type(a))\n",
    "print(type(b))\n",
    "print(type(c))"
   ]
  },
  {
   "cell_type": "code",
   "execution_count": null,
   "metadata": {},
   "outputs": [],
   "source": [
    "int(c)"
   ]
  },
  {
   "cell_type": "code",
   "execution_count": null,
   "metadata": {},
   "outputs": [],
   "source": [
    "type(int(c)) i "
   ]
  },
  {
   "cell_type": "code",
   "execution_count": null,
   "metadata": {},
   "outputs": [],
   "source": [
    "type(c) is int"
   ]
  },
  {
   "cell_type": "code",
   "execution_count": null,
   "metadata": {},
   "outputs": [],
   "source": [
    "print(type(a) is int)\n",
    "print(type(c) is int)\n",
    "print(type(int(b)))\n",
    "print(type(int(c)))"
   ]
  },
  {
   "cell_type": "markdown",
   "metadata": {},
   "source": [
    "___\n",
    "\n",
    "## Printing"
   ]
  },
  {
   "cell_type": "code",
   "execution_count": null,
   "metadata": {},
   "outputs": [],
   "source": [
    "x = 'hello'"
   ]
  },
  {
   "cell_type": "code",
   "execution_count": null,
   "metadata": {},
   "outputs": [],
   "source": [
    "x"
   ]
  },
  {
   "cell_type": "code",
   "execution_count": null,
   "metadata": {},
   "outputs": [],
   "source": [
    "print(x)"
   ]
  },
  {
   "cell_type": "code",
   "execution_count": null,
   "metadata": {},
   "outputs": [],
   "source": [
    "num = 12\n",
    "name = 'Sam'"
   ]
  },
  {
   "cell_type": "code",
   "execution_count": null,
   "metadata": {},
   "outputs": [],
   "source": [
    "'My number is: {one}, and my name is: {two}'.format(one=num,two=name)"
   ]
  },
  {
   "cell_type": "code",
   "execution_count": null,
   "metadata": {},
   "outputs": [],
   "source": [
    "print('My number is: {}, and my name is: {}'.format(num,name))"
   ]
  },
  {
   "cell_type": "markdown",
   "metadata": {},
   "source": [
    "___\n",
    "\n",
    "## Le strutture dati standard di Python\n",
    "Python offre un (discretamente) ricco set di strutture dati standard utilizzabili per far fronte a numerose esigenze applicative. Generalmente, queste strutture consentono di gestire in modo coerente collezioni di dati generici secondo diversi pattern di accesso. \n",
    "\n",
    "### Le tuple\n",
    "Le tuple consentono di mantenere collezioni di valori eterogenei immutabili. La definizione di una tupla avviene elencando i valori che ne fanno parte all'interno di una coppia di parentesi tonde **()**, separati da virgola. Una volta introdotta e definita una tupla, non è possibile modificarne il contenuto."
   ]
  },
  {
   "cell_type": "code",
   "execution_count": null,
   "metadata": {},
   "outputs": [],
   "source": [
    "t = (1,2,3,\"a\")"
   ]
  },
  {
   "cell_type": "code",
   "execution_count": null,
   "metadata": {},
   "outputs": [],
   "source": [
    "t[0]"
   ]
  },
  {
   "cell_type": "code",
   "execution_count": null,
   "metadata": {},
   "outputs": [],
   "source": [
    "t[0] = 'NEW'"
   ]
  },
  {
   "cell_type": "code",
   "execution_count": null,
   "metadata": {},
   "outputs": [],
   "source": [
    "dotw = ('monday','tuesday','wednesday','thursday','friday','saturday','sunday')\n",
    "record = ('Ugo','Paoli',25,True,28.1)"
   ]
  },
  {
   "cell_type": "markdown",
   "metadata": {},
   "source": [
    "E' possibile accedere al contenuto di una tupla attraverso l'operatore **[]**, indicando l'indice o il range di indici che vogliamo selezionare. Sono disponibili gli operatori di slicing già visti all'opera con le stringhe."
   ]
  },
  {
   "cell_type": "code",
   "execution_count": null,
   "metadata": {},
   "outputs": [],
   "source": [
    "print(dotw[:5])\n",
    "print(record[:2])"
   ]
  },
  {
   "cell_type": "markdown",
   "metadata": {},
   "source": [
    "Abbiamo detto che non è possibile modificare il contenuto di una tupla, tuttavia è possibile concatenare più tuple. Può sorgere l'esigenza di istanziare una tupla contenente un solo elemento, in tal caso la sintassi da utilizzare è la seguente:"
   ]
  },
  {
   "cell_type": "code",
   "execution_count": null,
   "metadata": {},
   "outputs": [],
   "source": [
    "working_days = ('monday', 'tuesday', 'wednesday', 'thursday', 'friday')\n",
    "pre_holidays = ('saturday',)\n",
    "holidays = ('sunday',)\n",
    "dotw = working_days+pre_holidays+holidays\n",
    "print(dotw)"
   ]
  },
  {
   "cell_type": "markdown",
   "metadata": {},
   "source": [
    "### Le liste\n",
    "La struttura dati lista consente di mantenere una collezione dinamica di dati eteogenei, ciascuno dei quali indicizzato con un numero naturale crescente, e per la quale sono presenti diversi pattern di accesso.\n",
    "\n",
    "E' possibile istanziare una lista racchiudendo l'elenco dei valori che ne fanno parte tra una coppia di parentesi quadre **[]**, separandoli da virgole. E' possibile istanziare una lista vuota limitandosi ad indicare la coppia di parentesi quadre."
   ]
  },
  {
   "cell_type": "code",
   "execution_count": null,
   "metadata": {},
   "outputs": [],
   "source": [
    "frutta = ['mela','pera','ananas']\n",
    "verdura = ['radicchio','spongino','verza']\n",
    "lista_spesa = []"
   ]
  },
  {
   "cell_type": "markdown",
   "metadata": {},
   "source": [
    "Una volta introdotta una lista, è possibile accedere al suo contenuto usando il solito operatore di slicing."
   ]
  },
  {
   "cell_type": "code",
   "execution_count": null,
   "metadata": {},
   "outputs": [],
   "source": [
    "print(frutta[0])\n",
    "print(frutta[:])\n",
    "print(frutta[2:])"
   ]
  },
  {
   "cell_type": "markdown",
   "metadata": {},
   "source": [
    "E' possibile intervenire su una lista, modificandone il contenuto."
   ]
  },
  {
   "cell_type": "code",
   "execution_count": null,
   "metadata": {},
   "outputs": [],
   "source": [
    "\n",
    "print(frutta)\n",
    "print(len(frutta))\n",
    "# Rimuovo l'item nella posizione 0 dalla collezione\n",
    "print(frutta.pop(0))\n",
    "# Rimuovo un item in base al suo valore\n",
    "# Aggiungo un nuovo item in coda alla collezione\n",
    "frutta.append('uva')\n",
    "# Aggiungo un nuovo item nella posizione 0 della collezione, i restanti sono shiftati a destra\n",
    "frutta.insert(0,'mango')\n",
    "# Controllo se è presente un item con valore 'mandarino'. In caso affermativo, lo rimuovo\n",
    "if 'mandarino' in frutta:\n",
    "  frutta.remove('mandarino')\n",
    "print(frutta)\n",
    "print(len(frutta))\n",
    "\n",
    "lista_spesa = verdura+frutta\n",
    "print(lista_spesa)\n",
    "print(type(lista_spesa))\n",
    "\n"
   ]
  },
  {
   "cell_type": "markdown",
   "metadata": {},
   "source": [
    "### I dizionari\n",
    "I dizionari sono strutture dati associative che consentono di memorizzare coppie chiave, valore (k,v), dopo il valore può essere un qualunque tipo di quelli supportati da Python. La creazione di un nuovo dizionario in Python avviene in diversi modi."
   ]
  },
  {
   "cell_type": "code",
   "execution_count": null,
   "metadata": {},
   "outputs": [],
   "source": [
    "# Creazione di un dizionario inizialmente vuoto\n",
    "indice = dict()\n",
    "# Creazione ed inizializzazione di un dizionario\n",
    "indice = {'120':('Enzo','Rossi'),'130':('130','Eva','Bianchi')}\n",
    "# Accesso in lettura al contenuto di un dizionario\n",
    "# Fornisco in input la chiave, ottengo in output il valore\n",
    "print(indice['120'])"
   ]
  },
  {
   "cell_type": "code",
   "execution_count": null,
   "metadata": {},
   "outputs": [],
   "source": [
    "# Accesso in scrittura, indico la chiave cui voglio associare una tupla\n",
    "# e vi assegno il valore desiderato. Se già esiste, la precedente associazione\n",
    "# viene scartata\n",
    "indice['140'] = ('140','Ugo','Verdi')\n",
    "print(indice['140'])"
   ]
  },
  {
   "cell_type": "code",
   "execution_count": null,
   "metadata": {},
   "outputs": [],
   "source": [
    "print(indice)"
   ]
  },
  {
   "cell_type": "code",
   "execution_count": null,
   "metadata": {},
   "outputs": [],
   "source": [
    "# E' disponibile una modalità alternativa di accesso al contenuto di un dizionario\n",
    "# necessaria a schermare il caso in cui la chiave cercata non sia presente\n",
    "print(indice.get('120a'))\n",
    "\n",
    "# Restituisce tutte le chiavi presenti nel dizionario\n",
    "chiavi = indice.keys()\n",
    "# Restituisce tutti i valori presenti nel dizionario\n",
    "valori = indice.values()\n",
    "\n",
    "for m in chiavi:\n",
    "  print(m)\n",
    "\n",
    "for s in valori:\n",
    "  print(s)\n",
    "# Restituisce chiavi e valori presenti nel dizionario\n",
    "for m,s in indice.items():\n",
    "  print(m)\n",
    "  print(s)"
   ]
  },
  {
   "cell_type": "markdown",
   "metadata": {},
   "source": [
    "### Gli insiemi\n",
    "Gli insiemi consentono di mantenere collezioni di valori eterogenei *senza duplicazioni*. I valori sono conservati nella struttura dati non necessariamente nell'ordine con cui sono stati inseriti. Più insiemi possono essere combinati per mezzo di operatori insiemistici.### Insiemi"
   ]
  },
  {
   "cell_type": "code",
   "execution_count": null,
   "metadata": {},
   "outputs": [],
   "source": [
    "preferenze_mie = {'cinese','vietnamita','tex mex','italiano'}\n",
    "preferenze_tue = {'world','messicano','italiano','tex mex'}\n",
    "print(preferenze_mie.intersection(preferenze_tue))\n",
    "print(preferenze_mie.union(preferenze_tue))\n",
    "print(preferenze_mie.difference(preferenze_tue))\n",
    "gusti_condivisi = preferenze_mie.intersection(preferenze_tue)\n",
    "gusti_condivisi"
   ]
  },
  {
   "cell_type": "markdown",
   "metadata": {},
   "source": [
    "___\n",
    "\n",
    "## I costrutti \n",
    "\n",
    "### Il costrutto if,elif, else\n",
    "\n",
    "Questo costrutto consente di condizionare l'esecuzione di un gruppo di istruzioni al verificarsi di una certa condizione booleana. Occorre prestare particolare attenzione alla sintassi con cui esprimere questo costrutto. Nel formularlo si prevede una prima riga di codice nella quale si fa seguire alla keyword **if** l'espressione booleana da valutare, seguita a sua volta dal carattere **:**. A partire dalla riga successiva e limitatamente a tutte le istruzioni da eseguire nel caso in cui l'espressione sia vera, queste devono essere indentate a destra rispetto alla posizione in colonna dell'istruzione **if**. "
   ]
  },
  {
   "cell_type": "code",
   "execution_count": null,
   "metadata": {},
   "outputs": [],
   "source": [
    "if 1 < 2:\n",
    "    print('Yep!')"
   ]
  },
  {
   "cell_type": "code",
   "execution_count": null,
   "metadata": {},
   "outputs": [],
   "source": [
    "if 1 < 2:\n",
    "    print('first')\n",
    "else:\n",
    "    print('last')"
   ]
  },
  {
   "cell_type": "code",
   "execution_count": null,
   "metadata": {},
   "outputs": [],
   "source": [
    "if 1 > 2:\n",
    "    print('first')\n",
    "else:\n",
    "    print('last')"
   ]
  },
  {
   "cell_type": "code",
   "execution_count": null,
   "metadata": {},
   "outputs": [],
   "source": [
    "if 1 == 2:\n",
    "    print('first')\n",
    "elif 3 == 3:\n",
    "    print('middle')\n",
    "else:\n",
    "    print('Last')"
   ]
  },
  {
   "cell_type": "markdown",
   "metadata": {},
   "source": [
    "### Il costrutto for\n",
    "Il costrutto **for** consente di iterare sugli elementi di una **collection** eseguendo un blocco di istruzioni. La sua sintassi d'uso prevede la presenza della keyword **for** seguita dal nome di una variabile temporanea, dalla keyword **in** e dal riferimento alla collection che si intende scorrere, seguita dal carattere **:**. A partire dalla riga successiva, ed indentato a destra rispetto alla posizione della keyword **for**, il blocco di istruzioni da eseguire per ogni elemento della collection."
   ]
  },
  {
   "cell_type": "code",
   "execution_count": null,
   "metadata": {},
   "outputs": [],
   "source": [
    "seq = [1,2,3,4,5]"
   ]
  },
  {
   "cell_type": "code",
   "execution_count": null,
   "metadata": {},
   "outputs": [],
   "source": [
    "for item in seq:\n",
    "    print(item)"
   ]
  },
  {
   "cell_type": "code",
   "execution_count": null,
   "metadata": {},
   "outputs": [],
   "source": [
    "for item in seq:\n",
    "    print('Yep')"
   ]
  },
  {
   "cell_type": "code",
   "execution_count": null,
   "metadata": {},
   "outputs": [],
   "source": [
    "for jelly in seq:\n",
    "    print(jelly+jelly)"
   ]
  },
  {
   "cell_type": "markdown",
   "metadata": {},
   "source": [
    "### Il costrutto while\n",
    "Il costrutto while consente di eseguire ripetutamente (anche zero volte) un blocco di istruzioni al verificarsi di una certa condizione booleana. La sintassi d'uso richiede l'indicazione della keyword **while**, seguita dalla condizione che consente di rimanere dentro il ciclo e dal carattere **:**. \n",
    "A partire dalla riga successiva, indentata a destra rispetto alla colonna in cui compare l'istruzione **while**, va indicato il blocco di codice da eseguire in quel caso.\n",
    "E' possibile interrompere l'esecuzione di un ciclo while per riprendere dalla prima istruzione successiva al ciclo utilizzando l'istruzione **break**. E' possibile invece skippare solo l'iterazione corrente e tornare al punto in cui inizia il ciclo utilizzando l'istruzione **continue**."
   ]
  },
  {
   "cell_type": "code",
   "execution_count": null,
   "metadata": {},
   "outputs": [],
   "source": [
    "i = 1\n",
    "while i < 5:\n",
    "    print('i is: {}'.format(i))\n",
    "    i = i+1"
   ]
  },
  {
   "cell_type": "markdown",
   "metadata": {},
   "source": [
    "___\n",
    "\n",
    "## Le funzioni in Python\n",
    "\n",
    "L'esigenza di realizzare una programmazione strutturata ci porta alla possibilità di decomporre un certo problema in problemi più elementari, spesso standard, e di definire per ciascuno di questi problemi una soluzione ad-hoc riutilizzabile. Una funzione consiste in un codice in grado di risolvere un certo problema in accordo ad un contratto. Questi definisce il codice di utilizzo della funzione, ossia, di quali dati la funzione ha bisogno per operare e quali modalità sono utilizzate per restituire un risultato. \n",
    "\n",
    "Nel momento in cui eseguiamo una porzione di codice in cui è definita una funzione, questa definizione viene trasmessa ed acquisita dall'interprete Python. Da quel momento in poi è possibile richiamarla indicandone il nome seguito dalla coppia di parentesi tonde, nelle quali eventualmente racchiudere i parametri di ingresso.\n",
    "\n",
    "Nel caso in cui si vogliano usare funzioni con argomenti, questi possono essere indicati attraverso il solo identificatore e senza l'apposizione del tipo di dato.\n",
    "\n",
    "Le funzioni possono poi restituire dei valori di ritorno che il chiamante può acquisire e sfruttare. In questo caso, all'interno della funzione si adopera la clausola return per interromperne l'esecuzione ed indicare quale valore restituire all'applicazione che ha chiamato la funzione. Quando si indicano i parametri di una funzione in Python, è possibile qualificarli come opzionali. In tal caso, occorre indicare un valore di default che sarà quello utilizzato nel caso in cui l'utente ometta di indicarli."
   ]
  },
  {
   "cell_type": "code",
   "execution_count": null,
   "metadata": {},
   "outputs": [],
   "source": [
    "def greet():\n",
    "  print('Hello world!')"
   ]
  },
  {
   "cell_type": "code",
   "execution_count": null,
   "metadata": {},
   "outputs": [],
   "source": [
    "greet()"
   ]
  },
  {
   "cell_type": "code",
   "execution_count": null,
   "metadata": {},
   "outputs": [],
   "source": [
    "def sum(a, b):\n",
    "  somma = a + b\n",
    "  return somma"
   ]
  },
  {
   "cell_type": "code",
   "execution_count": null,
   "metadata": {},
   "outputs": [],
   "source": [
    "sum(4,5)"
   ]
  },
  {
   "cell_type": "code",
   "execution_count": null,
   "metadata": {},
   "outputs": [],
   "source": [
    "sum()"
   ]
  },
  {
   "cell_type": "markdown",
   "metadata": {},
   "source": [
    "## Funzioni lambda\n",
    "\n",
    "La dichiarazione di una nuova funzione in Python avviene secondo una certa sintassi vista in precedenza. Può sorgere l'esigenza di dichiarare funzioni in forma ancora più breve. Può anche essere necessario dover definire delle funzioni al volo che hanno utilizzo solo in un particolare punto del codice. \n",
    "Esiste una modalità alternativa di definizione delle funzioni in Python rappresentata dalle funzioni *lambda*. Queste mi consentono in un'unica riga di definire una funzione dichiarandone gli argomenti presi in input e, a seguire, il comportamento della funzione nel restituire un output in funzione di quell'input.\n",
    "Una funzione lambda può essere indicata direttamente come input di un'altra funzione che vuole, come argomento, una funzione. Oppure è possibile definirla in precedenza ed assegnarla ad una variabile che, da quel momento, potrà essere usata come veicolo per richiamare quella funzione."
   ]
  },
  {
   "cell_type": "code",
   "execution_count": null,
   "metadata": {},
   "outputs": [],
   "source": [
    "# Somma di due numeri\n",
    "def sum(a, b):\n",
    "  return a+b"
   ]
  },
  {
   "cell_type": "code",
   "execution_count": null,
   "metadata": {},
   "outputs": [],
   "source": [
    "sum2 = (lambda x,y: x+y)"
   ]
  },
  {
   "cell_type": "code",
   "execution_count": null,
   "metadata": {},
   "outputs": [],
   "source": [
    "print(sum2(5,4))"
   ]
  },
  {
   "cell_type": "markdown",
   "metadata": {},
   "source": [
    "## Commenti"
   ]
  },
  {
   "cell_type": "code",
   "execution_count": null,
   "metadata": {},
   "outputs": [],
   "source": [
    "# in una cella di codice, tutto ciò che è preceduto da un asterisco non viene eseguito"
   ]
  },
  {
   "cell_type": "markdown",
   "metadata": {},
   "source": [
    "# Great Job!"
   ]
  }
 ],
 "metadata": {
  "kernelspec": {
   "display_name": "Python 3",
   "language": "python",
   "name": "python3"
  },
  "language_info": {
   "codemirror_mode": {
    "name": "ipython",
    "version": 3
   },
   "file_extension": ".py",
   "mimetype": "text/x-python",
   "name": "python",
   "nbconvert_exporter": "python",
   "pygments_lexer": "ipython3",
   "version": "3.7.4"
  }
 },
 "nbformat": 4,
 "nbformat_minor": 1
}
